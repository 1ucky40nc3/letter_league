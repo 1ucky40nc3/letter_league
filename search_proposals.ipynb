{
  "nbformat": 4,
  "nbformat_minor": 0,
  "metadata": {
    "colab": {
      "provenance": [],
      "authorship_tag": "ABX9TyNgo/VddrxYURRlF5G88Zo8",
      "include_colab_link": true
    },
    "kernelspec": {
      "name": "python3",
      "display_name": "Python 3"
    },
    "language_info": {
      "name": "python"
    }
  },
  "cells": [
    {
      "cell_type": "markdown",
      "metadata": {
        "id": "view-in-github",
        "colab_type": "text"
      },
      "source": [
        "<a href=\"https://colab.research.google.com/github/1ucky40nc3/letter_league/blob/main/search_proposals.ipynb\" target=\"_parent\"><img src=\"https://colab.research.google.com/assets/colab-badge.svg\" alt=\"Open In Colab\"/></a>"
      ]
    },
    {
      "cell_type": "code",
      "execution_count": 1,
      "metadata": {
        "colab": {
          "base_uri": "https://localhost:8080/"
        },
        "id": "MIzxVRmOihhU",
        "outputId": "f8ab9f37-c221-4ae0-ed33-64c5c7341c87"
      },
      "outputs": [
        {
          "output_type": "stream",
          "name": "stdout",
          "text": [
            "Cloning into 'english-words'...\n",
            "remote: Enumerating objects: 248, done.\u001b[K\n",
            "remote: Counting objects: 100% (125/125), done.\u001b[K\n",
            "remote: Compressing objects: 100% (42/42), done.\u001b[K\n",
            "remote: Total 248 (delta 97), reused 83 (delta 83), pack-reused 123\u001b[K\n",
            "Receiving objects: 100% (248/248), 27.63 MiB | 18.84 MiB/s, done.\n",
            "Resolving deltas: 100% (117/117), done.\n",
            "/content/english-words\n"
          ]
        }
      ],
      "source": [
        "# @title Load the Corpus\n",
        "\n",
        "!git clone https://github.com/dwyl/english-words.git\n",
        "%cd english-words\n",
        "\n",
        "with open(\"words.txt\", \"r\", encoding=\"utf-8\") as f:\n",
        "    text = f.read()"
      ]
    },
    {
      "cell_type": "code",
      "source": [
        "# @title Implement the Search Algorithm\n",
        "\n",
        "from typing import Any\n",
        "import re\n",
        "\n",
        "from typing import (\n",
        "    Any,\n",
        "    Dict,\n",
        "    Tuple, \n",
        "    Union,\n",
        "    Generator, \n",
        "    Optional\n",
        ")\n",
        "from collections.abc import Sequence\n",
        "\n",
        "import re\n",
        "import itertools\n",
        "\n",
        "\n",
        "Query = Sequence[Union[str, None]]\n",
        "Counts = Dict[str, int]\n",
        "\n",
        "\n",
        "def num_none(seq: Sequence[Union[str, None]]) -> int:\n",
        "    return len(seq) - len(list(filter(None, seq)))\n",
        "\n",
        "\n",
        "def corpus_item(match: re.Match, corpus: str) -> str:\n",
        "    start, end = match.span()\n",
        "    while start - 1 > 0 and \"\\n\" not in corpus[start - 1:start + 1]:\n",
        "        start -= 1\n",
        "    while end + 1 < len(corpus) and \"\\n\" not in corpus[end - 1:end + 1]:\n",
        "        end += 1\n",
        "    return corpus[start:end]\n",
        "\n",
        "\n",
        "def build_regex(query: Query, options: Tuple[str]) -> str:\n",
        "    option_regex = f\"[{''.join(options)}]\"\n",
        "    query_regex = \"\".join([q if isinstance(q, str) else option_regex for q in query])\n",
        "    n_options = str(len(options) - num_none(query))\n",
        "    options_regex = option_regex + \"{0,\" + n_options + \"}\"\n",
        "    regex = f\"{options_regex}{query_regex}{options_regex}\"\n",
        "    return regex\n",
        "\n",
        "\n",
        "def char_counts(string: str) -> Counts:\n",
        "    chars = set(string)\n",
        "    counts = {char: string.count(char) for char in chars}\n",
        "    return counts\n",
        "\n",
        "\n",
        "def le_counts(source: Counts, target: Counts) -> bool:\n",
        "    return (\n",
        "        all(k in target for k in source.keys())\n",
        "        and all([source[k] <= target[k] for k in source.keys()])\n",
        "    )\n",
        "\n",
        "\n",
        "def scrabble(query: Query, options: Tuple[str], corpus: str) -> Generator[str, None, None]:\n",
        "    regex = build_regex(query, options)\n",
        "    pattern = re.compile(regex)\n",
        "\n",
        "    min_length = len(query)\n",
        "    max_length = len(options) + len(query) - num_none(query) + 1\n",
        "    query_and_options_counts = char_counts(\"\".join(list(filter(None, query))) + \"\".join(options))\n",
        "\n",
        "    proposals = set()\n",
        "    for match_obj in pattern.finditer(corpus):\n",
        "        proposal = corpus_item(match_obj, corpus)\n",
        "        if (\n",
        "            proposal not in proposals\n",
        "            and min_length < len(proposal) < max_length\n",
        "            and le_counts(char_counts(proposal), query_and_options_counts)\n",
        "        ):\n",
        "            proposals.add(proposal)\n",
        "            yield proposal"
      ],
      "metadata": {
        "id": "w2822_IhioP-"
      },
      "execution_count": 2,
      "outputs": []
    },
    {
      "cell_type": "code",
      "source": [
        "# @title Search!\n",
        "\n",
        "queries = [(\"h\"), (\"n\", None, \"a\")]\n",
        "options = (\"e\", \"t\", \"r\", \"f\", \"a\")\n",
        "for query in queries:\n",
        "    for string in scrabble(query, options, text):\n",
        "        print(f'{query=} | {string=}')"
      ],
      "metadata": {
        "colab": {
          "base_uri": "https://localhost:8080/",
          "height": 226
        },
        "id": "Ugm5n1_9i22d",
        "outputId": "b6b155bd-c9f7-4ef5-968a-22838a671759"
      },
      "execution_count": 3,
      "outputs": [
        {
          "output_type": "error",
          "ename": "NameError",
          "evalue": "ignored",
          "traceback": [
            "\u001b[0;31m---------------------------------------------------------------------------\u001b[0m",
            "\u001b[0;31mNameError\u001b[0m                                 Traceback (most recent call last)",
            "\u001b[0;32m<ipython-input-3-70ea8e736799>\u001b[0m in \u001b[0;36m<module>\u001b[0;34m\u001b[0m\n\u001b[1;32m      4\u001b[0m \u001b[0moptions\u001b[0m \u001b[0;34m=\u001b[0m \u001b[0;34m(\u001b[0m\u001b[0;34m\"e\"\u001b[0m\u001b[0;34m,\u001b[0m \u001b[0;34m\"t\"\u001b[0m\u001b[0;34m,\u001b[0m \u001b[0;34m\"r\"\u001b[0m\u001b[0;34m,\u001b[0m \u001b[0;34m\"f\"\u001b[0m\u001b[0;34m,\u001b[0m \u001b[0;34m\"a\"\u001b[0m\u001b[0;34m)\u001b[0m\u001b[0;34m\u001b[0m\u001b[0;34m\u001b[0m\u001b[0m\n\u001b[1;32m      5\u001b[0m \u001b[0;32mfor\u001b[0m \u001b[0mquery\u001b[0m \u001b[0;32min\u001b[0m \u001b[0mqueries\u001b[0m\u001b[0;34m:\u001b[0m\u001b[0;34m\u001b[0m\u001b[0;34m\u001b[0m\u001b[0m\n\u001b[0;32m----> 6\u001b[0;31m     \u001b[0;32mfor\u001b[0m \u001b[0mstring\u001b[0m \u001b[0;32min\u001b[0m \u001b[0mscrbbl\u001b[0m\u001b[0;34m(\u001b[0m\u001b[0mquery\u001b[0m\u001b[0;34m,\u001b[0m \u001b[0moptions\u001b[0m\u001b[0;34m,\u001b[0m \u001b[0mtext\u001b[0m\u001b[0;34m)\u001b[0m\u001b[0;34m:\u001b[0m\u001b[0;34m\u001b[0m\u001b[0;34m\u001b[0m\u001b[0m\n\u001b[0m\u001b[1;32m      7\u001b[0m         \u001b[0mprint\u001b[0m\u001b[0;34m(\u001b[0m\u001b[0;34mf'{query=} | {string=}'\u001b[0m\u001b[0;34m)\u001b[0m\u001b[0;34m\u001b[0m\u001b[0;34m\u001b[0m\u001b[0m\n",
            "\u001b[0;31mNameError\u001b[0m: name 'scrbbl' is not defined"
          ]
        }
      ]
    },
    {
      "cell_type": "code",
      "source": [],
      "metadata": {
        "id": "V2w579s3mLzQ"
      },
      "execution_count": null,
      "outputs": []
    }
  ]
}